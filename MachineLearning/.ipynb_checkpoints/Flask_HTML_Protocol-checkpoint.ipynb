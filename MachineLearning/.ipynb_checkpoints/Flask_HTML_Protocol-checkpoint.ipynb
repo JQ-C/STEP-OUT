{
 "cells": [
  {
   "cell_type": "code",
   "execution_count": null,
   "id": "3ebb6f9e",
   "metadata": {
    "scrolled": true
   },
   "outputs": [
    {
     "name": "stdout",
     "output_type": "stream",
     "text": [
      " * Serving Flask app \"__main__\" (lazy loading)\n",
      " * Environment: production\n",
      "\u001b[31m   WARNING: This is a development server. Do not use it in a production deployment.\u001b[0m\n",
      "\u001b[2m   Use a production WSGI server instead.\u001b[0m\n",
      " * Debug mode: off\n"
     ]
    },
    {
     "name": "stderr",
     "output_type": "stream",
     "text": [
      " * Running on http://127.0.0.1:5000/ (Press CTRL+C to quit)\n",
      "127.0.0.1 - - [20/Apr/2023 20:55:27] \"GET / HTTP/1.1\" 200 -\n",
      "[2023-04-20 20:55:30,010] ERROR in app: Exception on /vehicle [POST]\n",
      "Traceback (most recent call last):\n",
      "  File \"C:\\Users\\yenso\\anaconda3\\lib\\site-packages\\flask\\app.py\", line 2447, in wsgi_app\n",
      "    response = self.full_dispatch_request()\n",
      "  File \"C:\\Users\\yenso\\anaconda3\\lib\\site-packages\\flask\\app.py\", line 1952, in full_dispatch_request\n",
      "    rv = self.handle_user_exception(e)\n",
      "  File \"C:\\Users\\yenso\\anaconda3\\lib\\site-packages\\flask\\app.py\", line 1821, in handle_user_exception\n",
      "    reraise(exc_type, exc_value, tb)\n",
      "  File \"C:\\Users\\yenso\\anaconda3\\lib\\site-packages\\flask\\_compat.py\", line 39, in reraise\n",
      "    raise value\n",
      "  File \"C:\\Users\\yenso\\anaconda3\\lib\\site-packages\\flask\\app.py\", line 1950, in full_dispatch_request\n",
      "    rv = self.dispatch_request()\n",
      "  File \"C:\\Users\\yenso\\anaconda3\\lib\\site-packages\\flask\\app.py\", line 1936, in dispatch_request\n",
      "    return self.view_functions[rule.endpoint](**req.view_args)\n",
      "  File \"C:\\Users\\yenso\\AppData\\Local\\Temp/ipykernel_2832/2490388164.py\", line 58, in vehicle\n",
      "    if y[i] == x[i]:\n",
      "IndexError: list index out of range\n",
      "127.0.0.1 - - [20/Apr/2023 20:55:30] \"POST /vehicle HTTP/1.1\" 500 -\n"
     ]
    },
    {
     "name": "stdout",
     "output_type": "stream",
     "text": [
      "[1, 'Diarrhea', 'Difficulty in Breathing']\n",
      "[1, 1, 'Difficulty in Breathing']\n",
      "[1, 1, 1]\n"
     ]
    }
   ],
   "source": [
    "from flask import Flask,render_template,request\n",
    "import pickle\n",
    "import numpy as np\n",
    "\n",
    "app = Flask(__name__)\n",
    "\n",
    "@app.route('/')\n",
    "def greeting():\n",
    "    return render_template('form.html')\n",
    "\n",
    "# @app.route('/data/', methods = ['POST', 'GET'])\n",
    "# def data():\n",
    "#     form_data = request.form\n",
    "#     if request.method == 'GET':\n",
    "#         return str(list(form_data.values()))\n",
    "#     if request.method == 'POST':\n",
    "#         form_data = request.form\n",
    "#         return render_template('data.html',form_data = form_data)\n",
    "\n",
    "# @app.route('/model')\n",
    "# def model():\n",
    "#     loaded_model = pickle.load(open('Capstone_RFC_model.sav','rb'))\n",
    "#     a = [1,1,0,0,0,1,1,1,0,1,0]\n",
    "#     a = np.expand_dims(a,0)\n",
    "#     result = str(loaded_model.predict(a))\n",
    "#     return result\n",
    "\n",
    "\n",
    "# @app.route(\"/calculate-estimate\", methods=[\"GET\"])\n",
    "# def calculate_estimate():\n",
    "#     estimate = request.args.get(\"estimate\")\n",
    "#     return estimate\n",
    "\n",
    "# @app.route(\"/fav_language\", methods=[\"GET\"])\n",
    "# def fav_language():\n",
    "#     estimate = request.args.get(\"fav_language\")\n",
    "#     return estimate\n",
    "\n",
    "@app.route(\"/vehicle\", methods=['POST'])\n",
    "def vehicle():\n",
    "#     vehicle = []\n",
    "#     for i in range(6):\n",
    "#         estimate = request.args.get(\"vehicle\")\n",
    "#         vehicle.append(estimate)  \n",
    "    form_data = request.form\n",
    "    x = list(form_data.values())\n",
    "    x.pop(0)\n",
    "    y = ['Age',\n",
    "         'Diarrhea', \n",
    "         'Difficulty in Breathing', \n",
    "         'Dry Cough', \n",
    "         'Fever', \n",
    "         'Nasal', \n",
    "         'Pains', \n",
    "         'Runny Nose']\n",
    "    \n",
    "    for i in range(len(y)):\n",
    "        if y[i] == x[i]:\n",
    "            x[i] = 1\n",
    "        elif y[i]!=x[i]: \n",
    "            x.insert(i,0)\n",
    "        print(x)\n",
    "#     return str(dict(form_data.values()))\n",
    "    return str(list(form_data.values()))\n",
    "\n",
    "if __name__=='__main__':\n",
    "    app.run()"
   ]
  },
  {
   "cell_type": "code",
   "execution_count": 59,
   "id": "c57ead4a",
   "metadata": {},
   "outputs": [
    {
     "ename": "SyntaxError",
     "evalue": "'return' outside function (Temp/ipykernel_2832/693010739.py, line 4)",
     "output_type": "error",
     "traceback": [
      "\u001b[1;36m  File \u001b[1;32m\"C:\\Users\\yenso\\AppData\\Local\\Temp/ipykernel_2832/693010739.py\"\u001b[1;36m, line \u001b[1;32m4\u001b[0m\n\u001b[1;33m    return vehicle\u001b[0m\n\u001b[1;37m    ^\u001b[0m\n\u001b[1;31mSyntaxError\u001b[0m\u001b[1;31m:\u001b[0m 'return' outside function\n"
     ]
    }
   ],
   "source": [
    "vehicle =[]\n",
    "for i in range(6):\n",
    "    vehicle.append(estimate)\n",
    "    return vehicle"
   ]
  },
  {
   "cell_type": "code",
   "execution_count": 15,
   "id": "2bfb8764",
   "metadata": {},
   "outputs": [
    {
     "data": {
      "text/plain": [
       "0"
      ]
     },
     "execution_count": 15,
     "metadata": {},
     "output_type": "execute_result"
    }
   ],
   "source": [
    "y = ['Gender',\n",
    "     'Age 60+', \n",
    "     'Diarrhea', \n",
    "         'Difficulty in Breathing', \n",
    "         'Dry Cough', \n",
    "         'Fever', \n",
    "         'Nasal', \n",
    "         'Pains', \n",
    "         'Runny Nose']\n",
    "    \n",
    "y.index('Age 60+')"
   ]
  },
  {
   "cell_type": "code",
   "execution_count": 16,
   "id": "9709d027",
   "metadata": {},
   "outputs": [
    {
     "name": "stdout",
     "output_type": "stream",
     "text": [
      "[True, True, True, True]\n",
      "[False, True, True, True]\n",
      "[False, False, True, False]\n",
      "[False, False, False, False]\n",
      "[False, False, True, True]\n"
     ]
    }
   ],
   "source": [
    "lst = [1,5,8,9,6]\n",
    "for i in lst:\n",
    "    res = []\n",
    "    idx = lst.index(i)\n",
    "    for j in range(len(lst)):\n",
    "        if(idx == j):\n",
    "            continue\n",
    "        res.append(i < lst[j])\n",
    "    print(res)    \n",
    " "
   ]
  },
  {
   "cell_type": "code",
   "execution_count": null,
   "id": "a35983b7",
   "metadata": {},
   "outputs": [],
   "source": []
  }
 ],
 "metadata": {
  "kernelspec": {
   "display_name": "Python 3 (ipykernel)",
   "language": "python",
   "name": "python3"
  },
  "language_info": {
   "codemirror_mode": {
    "name": "ipython",
    "version": 3
   },
   "file_extension": ".py",
   "mimetype": "text/x-python",
   "name": "python",
   "nbconvert_exporter": "python",
   "pygments_lexer": "ipython3",
   "version": "3.9.7"
  }
 },
 "nbformat": 4,
 "nbformat_minor": 5
}
