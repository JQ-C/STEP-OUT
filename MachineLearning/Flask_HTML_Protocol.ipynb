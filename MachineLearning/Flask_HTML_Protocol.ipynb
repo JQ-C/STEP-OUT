{
 "cells": [
  {
   "cell_type": "code",
   "execution_count": null,
   "id": "3ebb6f9e",
   "metadata": {
    "scrolled": true
   },
   "outputs": [],
   "source": [
    "from flask import Flask,render_template,request\n",
    "import pickle\n",
    "import numpy as np\n",
    "\n",
    "app = Flask(__name__)\n",
    "\n",
    "@app.route('/')\n",
    "def greeting():\n",
    "    return render_template('form.html')\n",
    "\n",
    "# @app.route('/data/', methods = ['POST', 'GET'])\n",
    "# def data():\n",
    "#     form_data = request.form\n",
    "#     if request.method == 'GET':\n",
    "#         return str(list(form_data.values()))\n",
    "#     if request.method == 'POST':\n",
    "#         form_data = request.form\n",
    "#         return render_template('data.html',form_data = form_data)\n",
    "\n",
    "# @app.route('/model')\n",
    "# def model():\n",
    "#     loaded_model = pickle.load(open('Capstone_RFC_model.sav','rb'))\n",
    "#     a = [1,1,0,0,0,1,1,1,0,1,0]\n",
    "#     a = np.expand_dims(a,0)\n",
    "#     result = str(loaded_model.predict(a))\n",
    "#     return result\n",
    "\n",
    "\n",
    "# @app.route(\"/calculate-estimate\", methods=[\"GET\"])\n",
    "# def calculate_estimate():\n",
    "#     estimate = request.args.get(\"estimate\")\n",
    "#     return estimate\n",
    "\n",
    "# @app.route(\"/fav_language\", methods=[\"GET\"])\n",
    "# def fav_language():\n",
    "#     estimate = request.args.get(\"fav_language\")\n",
    "#     return estimate\n",
    "\n",
    "@app.route(\"/vehicle\", methods=['POST'])\n",
    "def vehicle():\n",
    "#     vehicle = []\n",
    "#     for i in range(6):\n",
    "#         estimate = request.args.get(\"vehicle\")\n",
    "#         vehicle.append(estimate)  \n",
    "    form_data = request.form\n",
    "    x = list(form_data.values())\n",
    "    x.pop(0)\n",
    "    y = ['Age',\n",
    "         'Diarrhea', \n",
    "         'Difficulty in Breathing', \n",
    "         'Dry Cough', \n",
    "         'Fever', \n",
    "         'Nasal', \n",
    "         'Pains', \n",
    "         'Runny Nose']\n",
    "    \n",
    "    for i in range(len(y)):\n",
    "        if y[i] == x[i]:\n",
    "            x[i] = 1\n",
    "        elif y[i]!=x[i]: \n",
    "            x.insert(i,0)\n",
    "        print(x)\n",
    "#     return str(dict(form_data.values()))\n",
    "    return str(list(form_data.values()))\n",
    "\n",
    "if __name__=='__main__':\n",
    "    app.run()"
   ]
  },
  {
   "cell_type": "code",
   "execution_count": null,
   "id": "c57ead4a",
   "metadata": {},
   "outputs": [],
   "source": [
    "vehicle =[]\n",
    "for i in range(6):\n",
    "    vehicle.append(estimate)\n",
    "    return vehicle"
   ]
  },
  {
   "cell_type": "code",
   "execution_count": null,
   "id": "2bfb8764",
   "metadata": {},
   "outputs": [],
   "source": [
    "y = ['Gender',\n",
    "     'Age 60+', \n",
    "     'Diarrhea', \n",
    "         'Difficulty in Breathing', \n",
    "         'Dry Cough', \n",
    "         'Fever', \n",
    "         'Nasal', \n",
    "         'Pains', \n",
    "         'Runny Nose']\n",
    "    \n",
    "y.index('Age 60+')"
   ]
  },
  {
   "cell_type": "code",
   "execution_count": null,
   "id": "9709d027",
   "metadata": {},
   "outputs": [],
   "source": [
    "lst = [1,5,8,9,6]\n",
    "for i in lst:\n",
    "    res = []\n",
    "    idx = lst.index(i)\n",
    "    for j in range(len(lst)):\n",
    "        if(idx == j):\n",
    "            continue\n",
    "        res.append(i < lst[j])\n",
    "    print(res)    \n",
    " "
   ]
  },
  {
   "cell_type": "code",
   "execution_count": null,
   "id": "a35983b7",
   "metadata": {},
   "outputs": [],
   "source": []
  }
 ],
 "metadata": {
  "kernelspec": {
   "display_name": "Python 3 (ipykernel)",
   "language": "python",
   "name": "python3"
  },
  "language_info": {
   "codemirror_mode": {
    "name": "ipython",
    "version": 3
   },
   "file_extension": ".py",
   "mimetype": "text/x-python",
   "name": "python",
   "nbconvert_exporter": "python",
   "pygments_lexer": "ipython3",
   "version": "3.9.13"
  }
 },
 "nbformat": 4,
 "nbformat_minor": 5
}
